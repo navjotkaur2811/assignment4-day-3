{
  "nbformat": 4,
  "nbformat_minor": 0,
  "metadata": {
    "colab": {
      "name": "Untitled6.ipynb",
      "provenance": [],
      "authorship_tag": "ABX9TyM4wh2yKcaNkA9hMWbjjQ8g",
      "include_colab_link": true
    },
    "kernelspec": {
      "name": "python3",
      "display_name": "Python 3"
    },
    "language_info": {
      "name": "python"
    }
  },
  "cells": [
    {
      "cell_type": "markdown",
      "metadata": {
        "id": "view-in-github",
        "colab_type": "text"
      },
      "source": [
        "<a href=\"https://colab.research.google.com/github/navjotkaur2811/assignment4-day-3/blob/main/Untitled6.ipynb\" target=\"_parent\"><img src=\"https://colab.research.google.com/assets/colab-badge.svg\" alt=\"Open In Colab\"/></a>"
      ]
    },
    {
      "cell_type": "code",
      "metadata": {
        "colab": {
          "base_uri": "https://localhost:8080/"
        },
        "id": "i83U8VrlHmJH",
        "outputId": "3506837b-de1c-48f5-b91e-948d6e630b2c"
      },
      "source": [
        "#assignment--4\n",
        "#take input for the gift_presented _to[] list and print its respective gift_received from[] list\n",
        "import random\n",
        "a=input(\"enter the people whom gift presented to:\")\n",
        "people=[int(x) for x in a.split()]\n",
        "print(people)\n",
        "random.shuffle(people)\n",
        "draw={}\n",
        "for i in range (len(people)):\n",
        "  if i==len(people)-1:\n",
        "    draw[people[i]]=people[0]\n",
        "  else:\n",
        "    draw[people[i]]=people[i+1]\n",
        "print(\"gift_received from:gift_presented_to = \",draw)      \n"
      ],
      "execution_count": 12,
      "outputs": [
        {
          "output_type": "stream",
          "text": [
            "enter the people whom gift presented to:3 4 1 2 5\n",
            "[3, 4, 1, 2, 5]\n",
            "gift_received from:gift_presented_to =  {3: 1, 1: 5, 5: 2, 2: 4, 4: 3}\n"
          ],
          "name": "stdout"
        }
      ]
    }
  ]
}